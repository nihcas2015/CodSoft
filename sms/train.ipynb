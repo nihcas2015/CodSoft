{
 "cells": [
  {
   "cell_type": "markdown",
   "id": "8345849b",
   "metadata": {},
   "source": [
    "# SMS Spam Detection with SVM\n",
    "\n",
    "Building a spam classifier using Support Vector Machine"
   ]
  },
  {
   "cell_type": "code",
   "execution_count": 14,
   "id": "11b05c64",
   "metadata": {},
   "outputs": [
    {
     "data": {
      "text/plain": [
       "True"
      ]
     },
     "execution_count": 14,
     "metadata": {},
     "output_type": "execute_result"
    }
   ],
   "source": [
    "import pandas as pd\n",
    "import numpy as np\n",
    "import matplotlib.pyplot as plt\n",
    "import seaborn as sns\n",
    "import re\n",
    "from nltk.corpus import stopwords\n",
    "from nltk.stem import PorterStemmer\n",
    "from sklearn.model_selection import train_test_split\n",
    "from sklearn.feature_extraction.text import TfidfVectorizer\n",
    "from sklearn.svm import SVC\n",
    "from sklearn.metrics import classification_report, confusion_matrix, accuracy_score\n",
    "import nltk\n",
    "nltk.download('stopwords', quiet=True)"
   ]
  },
  {
   "cell_type": "markdown",
   "id": "425da95b",
   "metadata": {},
   "source": [
    "## Loading Data"
   ]
  },
  {
   "cell_type": "code",
   "execution_count": 15,
   "id": "74ea2038",
   "metadata": {},
   "outputs": [
    {
     "name": "stdout",
     "output_type": "stream",
     "text": [
      "Dataset shape: (5572, 5)\n",
      "\n",
      "First few rows:\n",
      "     v1                                                 v2 Unnamed: 2  \\\n",
      "0   ham  Go until jurong point, crazy.. Available only ...        NaN   \n",
      "1   ham                      Ok lar... Joking wif u oni...        NaN   \n",
      "2  spam  Free entry in 2 a wkly comp to win FA Cup fina...        NaN   \n",
      "3   ham  U dun say so early hor... U c already then say...        NaN   \n",
      "4   ham  Nah I don't think he goes to usf, he lives aro...        NaN   \n",
      "\n",
      "  Unnamed: 3 Unnamed: 4  \n",
      "0        NaN        NaN  \n",
      "1        NaN        NaN  \n",
      "2        NaN        NaN  \n",
      "3        NaN        NaN  \n",
      "4        NaN        NaN  \n"
     ]
    }
   ],
   "source": [
    "df = pd.read_csv(r'C:\\Users\\nihca\\OneDrive\\Documents\\vscode\\CodSoft\\spam.csv', encoding='latin-1')\n",
    "print(\"Dataset shape:\", df.shape)\n",
    "print(\"\\nFirst few rows:\")\n",
    "print(df.head())"
   ]
  },
  {
   "cell_type": "code",
   "execution_count": 16,
   "id": "53a309a4",
   "metadata": {},
   "outputs": [
    {
     "name": "stdout",
     "output_type": "stream",
     "text": [
      "Label distribution:\n",
      "label\n",
      "ham     4825\n",
      "spam     747\n",
      "Name: count, dtype: int64\n"
     ]
    }
   ],
   "source": [
    "df = df[['v1', 'v2']].copy()\n",
    "df.columns = ['label', 'message']\n",
    "\n",
    "print(\"Label distribution:\")\n",
    "print(df['label'].value_counts())"
   ]
  },
  {
   "cell_type": "code",
   "execution_count": 17,
   "id": "af33136e",
   "metadata": {},
   "outputs": [
    {
     "data": {
      "image/png": "[encoded data removed]",
      "text/plain": [
       "<Figure size 800x400 with 1 Axes>"
      ]
     },
     "metadata": {},
     "output_type": "display_data"
    }
   ],
   "source": [
    "plt.figure(figsize=(8, 4))\n",
    "sns.countplot(data=df, x='label')\n",
    "plt.title('SMS Distribution')\n",
    "plt.show()"
   ]
  },
  {
   "cell_type": "markdown",
   "id": "20572ab8",
   "metadata": {},
   "source": [
    "## Text Preprocessing"
   ]
  },
  {
   "cell_type": "code",
   "execution_count": 18,
   "id": "c49a4907",
   "metadata": {},
   "outputs": [
    {
     "name": "stdout",
     "output_type": "stream",
     "text": [
      "Original messages vs Processed messages:\n",
      "============================================================\n",
      "Original: Go until jurong point, crazy.. Available only in bugis n great world la e buffet... Cine there got a...\n",
      "Processed: jurong point crazi avail bugi great world buffet cine got amor wat...\n",
      "------------------------------------------------------------\n",
      "Original: Ok lar... Joking wif u oni......\n",
      "Processed: lar joke wif oni...\n",
      "------------------------------------------------------------\n",
      "Original: Free entry in 2 a wkly comp to win FA Cup final tkts 21st May 2005. Text FA to 87121 to receive entr...\n",
      "Processed: free entri wkli comp win cup final tkt may text receiv entri questionstd txt ratetc appli over...\n",
      "------------------------------------------------------------\n",
      "Original: U dun say so early hor... U c already then say......\n",
      "Processed: dun say earli hor alreadi say...\n",
      "------------------------------------------------------------\n",
      "Original: Nah I don't think he goes to usf, he lives around here though...\n",
      "Processed: nah dont think goe usf live around though...\n",
      "------------------------------------------------------------\n"
     ]
    }
   ],
   "source": [
    "stemmer = PorterStemmer()\n",
    "stop_words = set(stopwords.words('english'))\n",
    "\n",
    "def preprocess_text(text):\n",
    "    text = text.lower()\n",
    "    text = re.sub(r'[^a-zA-Z\\s]', '', text)\n",
    "    text = ' '.join(text.split())\n",
    "    words = text.split()\n",
    "    words = [stemmer.stem(word) for word in words if word not in stop_words and len(word) > 2]\n",
    "    return ' '.join(words)\n",
    "\n",
    "df['processed_message'] = df['message'].apply(preprocess_text)\n",
    "\n",
    "print(\"Original messages vs Processed messages:\")\n",
    "print(\"=\" * 60)\n",
    "for i in range(5):\n",
    "    print(f\"Original: {df['message'].iloc[i][:100]}...\")\n",
    "    print(f\"Processed: {df['processed_message'].iloc[i][:100]}...\")\n",
    "    print(\"-\" * 60)"
   ]
  },
  {
   "cell_type": "markdown",
   "id": "1456be96",
   "metadata": {},
   "source": [
    "## TF-IDF Vectorization"
   ]
  },
  {
   "cell_type": "code",
   "execution_count": 19,
   "id": "0e14c9c0",
   "metadata": {},
   "outputs": [
    {
     "name": "stdout",
     "output_type": "stream",
     "text": [
      "Feature matrix shape: (5572, 5000)\n",
      "Number of features: 5000\n",
      "\n",
      "Sample feature names: ['aah' 'aathilov' 'aathiwher' 'abbey' 'abdomen' 'abeg' 'abel' 'aberdeen'\n",
      " 'abi' 'abil' 'abiola' 'abj' 'abl' 'abnorm' 'abouta' 'abroad' 'abt' 'abta'\n",
      " 'aburo' 'abus']\n",
      "\n",
      "Label distribution:\n",
      "label\n",
      "ham     4825\n",
      "spam     747\n",
      "Name: count, dtype: int64\n",
      "\n",
      "Encoded labels - Ham: 0, Spam: 1\n",
      "Original classes: ['ham' 'spam']\n",
      "Encoded label distribution: [4825  747]\n"
     ]
    }
   ],
   "source": [
    "tfidf_vectorizer = TfidfVectorizer(max_features=5000, stop_words='english', lowercase=True)\n",
    "\n",
    "X = tfidf_vectorizer.fit_transform(df['processed_message'])\n",
    "y = df['label']\n",
    "\n",
    "print(f\"Feature matrix shape: {X.shape}\")\n",
    "print(f\"Number of features: {X.shape[1]}\")\n",
    "\n",
    "feature_names = tfidf_vectorizer.get_feature_names_out()\n",
    "print(f\"\\nSample feature names: {feature_names[:20]}\")\n",
    "\n",
    "print(f\"\\nLabel distribution:\")\n",
    "print(y.value_counts())\n",
    "\n",
    "from sklearn.preprocessing import LabelEncoder\n",
    "label_encoder = LabelEncoder()\n",
    "y_encoded = label_encoder.fit_transform(y)\n",
    "\n",
    "print(f\"\\nEncoded labels - Ham: 0, Spam: 1\")\n",
    "print(f\"Original classes: {label_encoder.classes_}\")\n",
    "print(f\"Encoded label distribution: {np.bincount(y_encoded)}\")"
   ]
  },
  {
   "cell_type": "markdown",
   "id": "988f22cd",
   "metadata": {},
   "source": [
    "## Train-Test Split"
   ]
  },
  {
   "cell_type": "code",
   "execution_count": 20,
   "id": "65ccddcc",
   "metadata": {},
   "outputs": [
    {
     "name": "stdout",
     "output_type": "stream",
     "text": [
      "Training set shape: (4457, 5000)\n",
      "Testing set shape: (1115, 5000)\n",
      "Training labels distribution: [3859  598]\n",
      "Testing labels distribution: [966 149]\n",
      "\n",
      "Spam percentage in training set: 13.42%\n",
      "Spam percentage in testing set: 13.36%\n"
     ]
    }
   ],
   "source": [
    "X_train, X_test, y_train, y_test = train_test_split(\n",
    "    X, y_encoded, test_size=0.2, random_state=42, stratify=y_encoded\n",
    ")\n",
    "\n",
    "print(f\"Training set shape: {X_train.shape}\")\n",
    "print(f\"Testing set shape: {X_test.shape}\")\n",
    "print(f\"Training labels distribution: {np.bincount(y_train)}\")\n",
    "print(f\"Testing labels distribution: {np.bincount(y_test)}\")\n",
    "\n",
    "train_spam_pct = (y_train.sum() / len(y_train)) * 100\n",
    "test_spam_pct = (y_test.sum() / len(y_test)) * 100\n",
    "print(f\"\\nSpam percentage in training set: {train_spam_pct:.2f}%\")\n",
    "print(f\"Spam percentage in testing set: {test_spam_pct:.2f}%\")"
   ]
  },
  {
   "cell_type": "markdown",
   "id": "062f7529",
   "metadata": {},
   "source": [
    "## SVM Training"
   ]
  },
  {
   "cell_type": "code",
   "execution_count": 21,
   "id": "9be7e077",
   "metadata": {},
   "outputs": [
    {
     "name": "stdout",
     "output_type": "stream",
     "text": [
      "SVM Accuracy: 0.9830\n",
      "\n",
      "Classification Report:\n",
      "              precision    recall  f1-score   support\n",
      "\n",
      "         Ham       0.98      1.00      0.99       966\n",
      "        Spam       0.98      0.89      0.93       149\n",
      "\n",
      "    accuracy                           0.98      1115\n",
      "   macro avg       0.98      0.94      0.96      1115\n",
      "weighted avg       0.98      0.98      0.98      1115\n",
      "\n"
     ]
    }
   ],
   "source": [
    "svm_model = SVC(kernel='linear', random_state=42)\n",
    "svm_model.fit(X_train, y_train)\n",
    "\n",
    "y_pred = svm_model.predict(X_test)\n",
    "accuracy = accuracy_score(y_test, y_pred)\n",
    "\n",
    "print(f\"SVM Accuracy: {accuracy:.4f}\")\n",
    "print(\"\\nClassification Report:\")\n",
    "print(classification_report(y_test, y_pred, target_names=['Ham', 'Spam']))"
   ]
  },
  {
   "cell_type": "code",
   "execution_count": 22,
   "id": "e0438287",
   "metadata": {},
   "outputs": [
    {
     "data": {
      "image/png": "[encoded data removed]",
      "text/plain": [
       "<Figure size 600x400 with 2 Axes>"
      ]
     },
     "metadata": {},
     "output_type": "display_data"
    }
   ],
   "source": [
    "cm = confusion_matrix(y_test, y_pred)\n",
    "\n",
    "plt.figure(figsize=(6, 4))\n",
    "sns.heatmap(cm, annot=True, fmt='d', cmap='Blues', \n",
    "            xticklabels=['Ham', 'Spam'], \n",
    "            yticklabels=['Ham', 'Spam'])\n",
    "plt.title(f'SVM Confusion Matrix\\nAccuracy: {accuracy:.4f}')\n",
    "plt.xlabel('Predicted')\n",
    "plt.ylabel('Actual')\n",
    "plt.show()"
   ]
  }
 ],
 "metadata": {
  "kernelspec": {
   "display_name": "codsoft",
   "language": "python",
   "name": "python3"
  },
  "language_info": {
   "codemirror_mode": {
    "name": "ipython",
    "version": 3
   },
   "file_extension": ".py",
   "mimetype": "text/x-python",
   "name": "python",
   "nbconvert_exporter": "python",
   "pygments_lexer": "ipython3",
   "version": "3.10.18"
  }
 },
 "nbformat": 4,
 "nbformat_minor": 5
}
